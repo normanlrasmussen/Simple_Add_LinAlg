{
 "cells": [
  {
   "cell_type": "markdown",
   "metadata": {},
   "source": [
    "This was made by Chat to generate random names"
   ]
  },
  {
   "cell_type": "code",
   "execution_count": null,
   "metadata": {},
   "outputs": [
    {
     "name": "stdout",
     "output_type": "stream",
     "text": [
      "CSV file 'random_names.csv' created!\n"
     ]
    }
   ],
   "source": [
    "import csv\n",
    "from faker import Faker"
   ]
  },
  {
   "cell_type": "code",
   "execution_count": null,
   "metadata": {},
   "outputs": [],
   "source": [
    "\n",
    "fake = Faker()\n",
    "\n",
    "# Generate and save random names to a CSV file\n",
    "with open(\"random_names.csv\", mode=\"w\", newline=\"\") as file:\n",
    "    writer = csv.writer(file)\n",
    "    writer.writerow([\"First Name\", \"Last Name\"])  # Header\n",
    "\n",
    "    for _ in range(10000):  # Change 100 to however many names you want\n",
    "        writer.writerow([fake.first_name(), fake.last_name()])\n",
    "\n",
    "print(\"CSV file 'random_names.csv' created!\")\n"
   ]
  }
 ],
 "metadata": {
  "kernelspec": {
   "display_name": "Python 3",
   "language": "python",
   "name": "python3"
  },
  "language_info": {
   "codemirror_mode": {
    "name": "ipython",
    "version": 3
   },
   "file_extension": ".py",
   "mimetype": "text/x-python",
   "name": "python",
   "nbconvert_exporter": "python",
   "pygments_lexer": "ipython3",
   "version": "3.12.3"
  }
 },
 "nbformat": 4,
 "nbformat_minor": 2
}
