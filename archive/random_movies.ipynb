{
 "cells": [
  {
   "cell_type": "markdown",
   "metadata": {},
   "source": [
    "This was made by chat to generate random movies"
   ]
  },
  {
   "cell_type": "code",
   "execution_count": 1,
   "metadata": {},
   "outputs": [],
   "source": [
    "import csv\n",
    "import random"
   ]
  },
  {
   "cell_type": "code",
   "execution_count": 2,
   "metadata": {},
   "outputs": [
    {
     "name": "stdout",
     "output_type": "stream",
     "text": [
      "CSV file 'random_movies.csv' created!\n"
     ]
    }
   ],
   "source": [
    "# Lists for random movie title generation\n",
    "adjectives = [\"Dark\", \"Lost\", \"Infinite\", \"Last\", \"Secret\", \"Silent\", \"Mysterious\", \"Epic\"]\n",
    "nouns = [\"Journey\", \"Warrior\", \"Legacy\", \"Shadow\", \"Storm\", \"Revenge\", \"Horizon\", \"Empire\"]\n",
    "\n",
    "# Generate and save random movie titles to a CSV file\n",
    "with open(\"random_movies.csv\", mode=\"w\", newline=\"\") as file:\n",
    "    writer = csv.writer(file)\n",
    "    writer.writerow([\"Movie Title\", \"Year\"])  # Header\n",
    "\n",
    "    for _ in range(10000):  # Change the number of movies as needed\n",
    "        title = f\"{random.choice(adjectives)} {random.choice(nouns)}\"\n",
    "        year = random.randint(1980, 2025)\n",
    "        \n",
    "        writer.writerow([title, year])\n",
    "\n",
    "print(\"CSV file 'random_movies.csv' created!\")\n"
   ]
  }
 ],
 "metadata": {
  "kernelspec": {
   "display_name": "Python 3",
   "language": "python",
   "name": "python3"
  },
  "language_info": {
   "codemirror_mode": {
    "name": "ipython",
    "version": 3
   },
   "file_extension": ".py",
   "mimetype": "text/x-python",
   "name": "python",
   "nbconvert_exporter": "python",
   "pygments_lexer": "ipython3",
   "version": "3.12.3"
  }
 },
 "nbformat": 4,
 "nbformat_minor": 2
}
