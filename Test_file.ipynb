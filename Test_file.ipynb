{
 "cells": [
  {
   "cell_type": "code",
   "execution_count": 20,
   "metadata": {},
   "outputs": [
    {
     "data": {
      "text/plain": [
       "<module 'Netflix' from 'c:\\\\Users\\\\norma\\\\OneDrive\\\\Desktop\\\\PProjects\\\\Simple_Add_LinAlg\\\\Netflix.py'>"
      ]
     },
     "execution_count": 20,
     "metadata": {},
     "output_type": "execute_result"
    }
   ],
   "source": [
    "from importlib import reload\n",
    "import pandas as pd\n",
    "import Person\n",
    "import Movie\n",
    "import Netflix\n",
    "\n",
    "reload(Person)\n",
    "reload(Movie)\n",
    "reload(Netflix)"
   ]
  },
  {
   "cell_type": "code",
   "execution_count": 21,
   "metadata": {},
   "outputs": [
    {
     "name": "stdout",
     "output_type": "stream",
     "text": [
      "Silent Warrior is Western.\n",
      "Mysterious Journey is Thriller.\n",
      "Secret Horizon is Action.\n",
      "Mysterious Shadow is Mystery.\n",
      "Infinite Revenge is Fantasy.\n",
      "Last Legacy is Sci-Fi.\n",
      "Infinite Journey is Romance.\n",
      "Epic Revenge is Sci-Fi.\n",
      "Secret Legacy is Adventure.\n",
      "Mysterious Horizon is Thriller.\n"
     ]
    }
   ],
   "source": [
    "Subscription = Netflix.Netflix()\n",
    "Subscription.random_movies(10)\n",
    "for i in range(10):\n",
    "    print(Subscription.movies[i])"
   ]
  }
 ],
 "metadata": {
  "kernelspec": {
   "display_name": "Python 3",
   "language": "python",
   "name": "python3"
  },
  "language_info": {
   "codemirror_mode": {
    "name": "ipython",
    "version": 3
   },
   "file_extension": ".py",
   "mimetype": "text/x-python",
   "name": "python",
   "nbconvert_exporter": "python",
   "pygments_lexer": "ipython3",
   "version": "3.12.3"
  }
 },
 "nbformat": 4,
 "nbformat_minor": 2
}
