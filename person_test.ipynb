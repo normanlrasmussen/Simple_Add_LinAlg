{
 "cells": [
  {
   "cell_type": "code",
   "execution_count": 43,
   "metadata": {},
   "outputs": [
    {
     "data": {
      "text/plain": [
       "<module 'Person' from 'c:\\\\Users\\\\norma\\\\OneDrive\\\\Desktop\\\\PProjects\\\\Simple_Add_LinAlg\\\\Person.py'>"
      ]
     },
     "execution_count": 43,
     "metadata": {},
     "output_type": "execute_result"
    }
   ],
   "source": [
    "from importlib import reload\n",
    "import Person\n",
    "reload(Person)"
   ]
  },
  {
   "cell_type": "code",
   "execution_count": 93,
   "metadata": {},
   "outputs": [
    {
     "name": "stdout",
     "output_type": "stream",
     "text": [
      "[11 51 68 64 39 50 58 50 87 60 15]\n",
      "[0.06081062 0.28194013 0.37592017 0.35380722 0.21560127 0.27641189\n",
      " 0.32063779 0.27641189 0.48095669 0.33169427 0.08292357]\n",
      "Joe's favorite genre is Romance.\n"
     ]
    }
   ],
   "source": [
    "Me = Person.Person()\n",
    "Me.set_name(\"Joe\")\n",
    "print(Me.movies_watched)\n",
    "print(Me.tastes)\n",
    "print(Me)\n"
   ]
  }
 ],
 "metadata": {
  "kernelspec": {
   "display_name": "Python 3",
   "language": "python",
   "name": "python3"
  },
  "language_info": {
   "codemirror_mode": {
    "name": "ipython",
    "version": 3
   },
   "file_extension": ".py",
   "mimetype": "text/x-python",
   "name": "python",
   "nbconvert_exporter": "python",
   "pygments_lexer": "ipython3",
   "version": "3.12.3"
  }
 },
 "nbformat": 4,
 "nbformat_minor": 2
}
